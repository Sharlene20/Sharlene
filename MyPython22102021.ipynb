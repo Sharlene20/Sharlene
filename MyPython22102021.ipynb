{
  "nbformat": 4,
  "nbformat_minor": 0,
  "metadata": {
    "colab": {
      "name": "MyPython22102021.ipynb",
      "provenance": [],
      "authorship_tag": "ABX9TyP/XcqH4MQWrBsNtI6HPhsE",
      "include_colab_link": true
    },
    "kernelspec": {
      "name": "python3",
      "display_name": "Python 3"
    },
    "language_info": {
      "name": "python"
    }
  },
  "cells": [
    {
      "cell_type": "markdown",
      "metadata": {
        "id": "view-in-github",
        "colab_type": "text"
      },
      "source": [
        "<a href=\"https://colab.research.google.com/github/Sharlene20/Sharlene/blob/main/MyPython22102021.ipynb\" target=\"_parent\"><img src=\"https://colab.research.google.com/assets/colab-badge.svg\" alt=\"Open In Colab\"/></a>"
      ]
    },
    {
      "cell_type": "markdown",
      "metadata": {
        "id": "kF5WxcdXuFw3"
      },
      "source": [
        "Date: 10-22-2021\n",
        "\n",
        "Name: Sharlene Angela L. Mercado"
      ]
    },
    {
      "cell_type": "code",
      "metadata": {
        "colab": {
          "base_uri": "https://localhost:8080/"
        },
        "id": "TQ2DAukbwkw_",
        "outputId": "4ebbebfb-ccf4-4c7c-c195-7b0481534f9e"
      },
      "source": [
        "def sum(s1, s2, s3):\n",
        "    result = 0\n",
        "    for s in range (s1, s2, s3):\n",
        "        result += s\n",
        "    return result\n",
        "\n",
        "def main():\n",
        "    print(\"Sum from 9 to 18\", sum(9, 19, 1))\n",
        "    print(\"Sum from 29 to 38\", sum(29, 39,2))\n",
        "    print(\"Sum from 49 to 58\", sum(49, 59, 3))\n",
        "\n",
        "main() # Call the main function"
      ],
      "execution_count": 9,
      "outputs": [
        {
          "output_type": "stream",
          "name": "stdout",
          "text": [
            "Sum from 9 to 18 135\n",
            "Sum from 29 to 38 165\n",
            "Sum from 49 to 58 214\n"
          ]
        }
      ]
    },
    {
      "cell_type": "code",
      "metadata": {
        "id": "ovCBxAx_aRpC",
        "colab": {
          "base_uri": "https://localhost:8080/"
        },
        "outputId": "04a70733-faa0-4ac9-c45a-8411777e676d"
      },
      "source": [
        "def swap(r,s):\n",
        "  r,s = s,r\n",
        "  return (r,s)\n",
        "\n",
        "if __name__ == '__main__':\n",
        "    r = 99\n",
        "    s = 79\n",
        "    print('r = %d,s = %d' % (r,s))\n",
        "    r,s = swap (r, s)\n",
        "    print('r = %d,s = %d' % (r,s))"
      ],
      "execution_count": 6,
      "outputs": [
        {
          "output_type": "stream",
          "name": "stdout",
          "text": [
            "r = 99,s = 79\n",
            "r = 79,s = 99\n"
          ]
        }
      ]
    },
    {
      "cell_type": "code",
      "metadata": {
        "colab": {
          "base_uri": "https://localhost:8080/"
        },
        "id": "omsnS14Pr4u1",
        "outputId": "cc8950cd-7e36-44f8-aa9a-8811402c1a22"
      },
      "source": [
        "def sort(number19, number29, number39):\n",
        "        if (number19 < number29) and (number19 < number39):\n",
        "          if number29 < number39:\n",
        "                return number19, number29,number39\n",
        "          else:\n",
        "                return number19, number29,number39\n",
        "          if (number29 < number19) and (number29 < number39):\n",
        "           if number19 < number39:\n",
        "                 return number29, number19,number39\n",
        "           else:\n",
        "                 return number29, number39,number19\n",
        "          if (number39 < number19) and (number39 < number29):\n",
        "            if number19 < number29:\n",
        "                 return number39, number19,number29\n",
        "          else:\n",
        "                 return number39, number29,number19\n",
        "\n",
        "num1, num2, num3 = sort( 99, 199, 299)\n",
        "\n",
        "print(\"num1 is\", num1)\n",
        "print(\"num2 is\", num2)\n",
        "print(\"num3 is\", num3)\n"
      ],
      "execution_count": 10,
      "outputs": [
        {
          "output_type": "stream",
          "name": "stdout",
          "text": [
            "num1 is 99\n",
            "num2 is 199\n",
            "num3 is 299\n"
          ]
        }
      ]
    },
    {
      "cell_type": "code",
      "metadata": {
        "colab": {
          "base_uri": "https://localhost:8080/"
        },
        "id": "AcfnANobwlYk",
        "outputId": "05765ff8-83ae-4773-9a5b-ca2e4ddf110e"
      },
      "source": [
        "def sort(number19, number29):\n",
        "    if number19 < number29:\n",
        "        return number19, number29\n",
        "    else:\n",
        "        return number29, number19\n",
        "\n",
        "num19, num29 = sort(99, 399 )\n",
        "\n",
        "print(\"num19 is\", num19)\n",
        "print(\"num29 is\", num29)"
      ],
      "execution_count": 11,
      "outputs": [
        {
          "output_type": "stream",
          "name": "stdout",
          "text": [
            "num19 is 99\n",
            "num29 is 399\n"
          ]
        }
      ]
    },
    {
      "cell_type": "code",
      "metadata": {
        "id": "cr_L-z9kwktn"
      },
      "source": [
        "#!/usr/bin/python \n",
        "# -*- coding: UTF-8 -*- \n",
        "\n",
        "def printArea(width = 89, height = 99):\n",
        "    area = width * height\n",
        "    print(\"width:\", width, \"\\theight:\", height, \"\\tarea:\", area)"
      ],
      "execution_count": 12,
      "outputs": []
    },
    {
      "cell_type": "markdown",
      "metadata": {
        "id": "xHa7VEai1P7S"
      },
      "source": [
        "**Use Default Arguments**"
      ]
    },
    {
      "cell_type": "code",
      "metadata": {
        "colab": {
          "base_uri": "https://localhost:8080/"
        },
        "id": "wM8AYadU1fg8",
        "outputId": "ffc716ad-f6f4-45e3-8936-a92e4b76fb8d"
      },
      "source": [
        "printArea()"
      ],
      "execution_count": 13,
      "outputs": [
        {
          "output_type": "stream",
          "name": "stdout",
          "text": [
            "width: 89 \theight: 99 \tarea: 8811\n"
          ]
        }
      ]
    },
    {
      "cell_type": "markdown",
      "metadata": {
        "id": "eh0fvwV914cK"
      },
      "source": [
        "**Use Keyword Argument**"
      ]
    },
    {
      "cell_type": "code",
      "metadata": {
        "colab": {
          "base_uri": "https://localhost:8080/"
        },
        "id": "ssWfga3119Yp",
        "outputId": "2676b0c9-647b-4172-ec4c-d5f41ca4dcd2"
      },
      "source": [
        "printArea(width = 89, height = 99)"
      ],
      "execution_count": 14,
      "outputs": [
        {
          "output_type": "stream",
          "name": "stdout",
          "text": [
            "width: 89 \theight: 99 \tarea: 8811\n"
          ]
        }
      ]
    },
    {
      "cell_type": "code",
      "metadata": {
        "colab": {
          "base_uri": "https://localhost:8080/"
        },
        "id": "a0raP3lT2NVe",
        "outputId": "9243b741-f927-4b63-9ac2-f3892d0d5459"
      },
      "source": [
        "printArea(width = 99, height = 89)"
      ],
      "execution_count": 15,
      "outputs": [
        {
          "output_type": "stream",
          "name": "stdout",
          "text": [
            "width: 99 \theight: 89 \tarea: 8811\n"
          ]
        }
      ]
    },
    {
      "cell_type": "markdown",
      "metadata": {
        "id": "NLPmrvWI2HX-"
      },
      "source": [
        "**Use Positional Arguments**"
      ]
    },
    {
      "cell_type": "code",
      "metadata": {
        "colab": {
          "base_uri": "https://localhost:8080/"
        },
        "id": "SF8CtsvX2aq3",
        "outputId": "c4aecfc0-4955-4863-a512-c59322c5015a"
      },
      "source": [
        "printArea(199,299)"
      ],
      "execution_count": 16,
      "outputs": [
        {
          "output_type": "stream",
          "name": "stdout",
          "text": [
            "width: 199 \theight: 299 \tarea: 59501\n"
          ]
        }
      ]
    },
    {
      "cell_type": "code",
      "metadata": {
        "colab": {
          "base_uri": "https://localhost:8080/"
        },
        "id": "PzVrgL1a2rDb",
        "outputId": "5bd7ed9d-5faa-41d9-d45b-5bbc37190c22"
      },
      "source": [
        "printArea(299,199)"
      ],
      "execution_count": 17,
      "outputs": [
        {
          "output_type": "stream",
          "name": "stdout",
          "text": [
            "width: 299 \theight: 199 \tarea: 59501\n"
          ]
        }
      ]
    },
    {
      "cell_type": "markdown",
      "metadata": {
        "id": "E0MsoL_O3C2y"
      },
      "source": [
        "**Lambda Function**"
      ]
    },
    {
      "cell_type": "code",
      "metadata": {
        "colab": {
          "base_uri": "https://localhost:8080/"
        },
        "id": "Uv99Qm4Q3OXk",
        "outputId": "bda7a686-6764-4aa7-bdbd-c12314120921"
      },
      "source": [
        "s1 = lambda e, f, g: e+9*f+99*g\n",
        "print(s1(9,99,999))"
      ],
      "execution_count": 18,
      "outputs": [
        {
          "output_type": "stream",
          "name": "stdout",
          "text": [
            "99801\n"
          ]
        }
      ]
    },
    {
      "cell_type": "code",
      "metadata": {
        "colab": {
          "base_uri": "https://localhost:8080/"
        },
        "id": "UCRAU-ww3pFD",
        "outputId": "cbe2d18e-b67e-4de4-ab5a-3c08cf6999b2"
      },
      "source": [
        "def myfunc(r):\n",
        "  return r*r\n",
        "\n",
        "my_list = [9, 18, 27, 36, 45]\n",
        "\n",
        "print(list(map(lambda x:myfunc(x), my_list)))"
      ],
      "execution_count": 19,
      "outputs": [
        {
          "output_type": "stream",
          "name": "stdout",
          "text": [
            "[81, 324, 729, 1296, 2025]\n"
          ]
        }
      ]
    }
  ]
}