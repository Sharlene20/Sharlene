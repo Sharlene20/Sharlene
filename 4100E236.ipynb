{
  "nbformat": 4,
  "nbformat_minor": 0,
  "metadata": {
    "colab": {
      "name": "4100E236",
      "provenance": [],
      "authorship_tag": "ABX9TyMelO5fI2lQR3k2s3MN3Oid"
    },
    "kernelspec": {
      "name": "python3",
      "display_name": "Python 3"
    },
    "language_info": {
      "name": "python"
    }
  },
  "cells": [
    {
      "cell_type": "markdown",
      "metadata": {
        "id": "sQBu72fnpe4K"
      },
      "source": [
        "**Python Data Type**\n",
        "\n",
        "Date: 10-12-2021\n",
        "\n",
        "Name: Sharlene Angela L. Mercado\n",
        "\n",
        "**Arithmetic Operations**"
      ]
    },
    {
      "cell_type": "code",
      "metadata": {
        "id": "8S9zpA1rL0tG",
        "colab": {
          "base_uri": "https://localhost:8080/"
        },
        "outputId": "958f9384-c965-45ba-c5e5-ba01a6324591"
      },
      "source": [
        "In [1]: a =  50/8\n",
        "a"
      ],
      "execution_count": 37,
      "outputs": [
        {
          "output_type": "execute_result",
          "data": {
            "text/plain": [
              "6.25"
            ]
          },
          "metadata": {},
          "execution_count": 37
        }
      ]
    },
    {
      "cell_type": "code",
      "metadata": {
        "colab": {
          "base_uri": "https://localhost:8080/"
        },
        "id": "Vsd6Pjxyqj-m",
        "outputId": "4bcfa1e9-3eca-4338-ab36-7bb070c319ec"
      },
      "source": [
        "In [3]: b = 50//8\n",
        "b"
      ],
      "execution_count": 39,
      "outputs": [
        {
          "output_type": "execute_result",
          "data": {
            "text/plain": [
              "6"
            ]
          },
          "metadata": {},
          "execution_count": 39
        }
      ]
    },
    {
      "cell_type": "code",
      "metadata": {
        "colab": {
          "base_uri": "https://localhost:8080/"
        },
        "id": "cxy5sQBxr7aI",
        "outputId": "b9063e9a-9e37-4283-d2e3-d572fe6863a7"
      },
      "source": [
        " In [5]: c= 50%8\n",
        " c"
      ],
      "execution_count": 40,
      "outputs": [
        {
          "output_type": "execute_result",
          "data": {
            "text/plain": [
              "2"
            ]
          },
          "metadata": {},
          "execution_count": 40
        }
      ]
    },
    {
      "cell_type": "markdown",
      "metadata": {
        "id": "7TelHT_4sWrX"
      },
      "source": [
        " 50 = 8*6 + 2 (remainder)"
      ]
    },
    {
      "cell_type": "markdown",
      "metadata": {
        "id": "ER8xK4zWs1zD"
      },
      "source": [
        "**Logical Operators**"
      ]
    },
    {
      "cell_type": "code",
      "metadata": {
        "colab": {
          "base_uri": "https://localhost:8080/"
        },
        "id": "ayx58qFis-Rb",
        "outputId": "20f16976-d3cc-48ca-8ac4-96e7a4c76fcd"
      },
      "source": [
        "x = 2\n",
        "print(x > 4 and x > 5 )"
      ],
      "execution_count": 11,
      "outputs": [
        {
          "output_type": "stream",
          "name": "stdout",
          "text": [
            "False\n"
          ]
        }
      ]
    },
    {
      "cell_type": "markdown",
      "metadata": {
        "id": "xgtMjC125Pjj"
      },
      "source": [
        "x = 2\n",
        "print(x > 4 and x > 5 )"
      ]
    },
    {
      "cell_type": "markdown",
      "metadata": {
        "id": "0ZqNfZH44U60"
      },
      "source": [
        "**Built in function**"
      ]
    },
    {
      "cell_type": "code",
      "metadata": {
        "colab": {
          "base_uri": "https://localhost:8080/",
          "height": 35
        },
        "id": "r8b8t-tw4nGX",
        "outputId": "3b7cb97e-4d4f-4bd2-d5df-d0c5717c8d2a"
      },
      "source": [
        "bin(2)"
      ],
      "execution_count": 12,
      "outputs": [
        {
          "output_type": "execute_result",
          "data": {
            "application/vnd.google.colaboratory.intrinsic+json": {
              "type": "string"
            },
            "text/plain": [
              "'0b10'"
            ]
          },
          "metadata": {},
          "execution_count": 12
        }
      ]
    },
    {
      "cell_type": "code",
      "metadata": {
        "colab": {
          "base_uri": "https://localhost:8080/"
        },
        "id": "8jauDXr-4TB5",
        "outputId": "892ced75-0ac4-43ed-b0d7-345523c35233"
      },
      "source": [
        "int(0b100)"
      ],
      "execution_count": 13,
      "outputs": [
        {
          "output_type": "execute_result",
          "data": {
            "text/plain": [
              "4"
            ]
          },
          "metadata": {},
          "execution_count": 13
        }
      ]
    },
    {
      "cell_type": "markdown",
      "metadata": {
        "id": "e8FlQoeM5_Uy"
      },
      "source": [
        "**2_string data type**"
      ]
    },
    {
      "cell_type": "code",
      "metadata": {
        "colab": {
          "base_uri": "https://localhost:8080/",
          "height": 35
        },
        "id": "afhRVnz46PVD",
        "outputId": "07f3ff3e-a64d-4c6d-d5ee-ce15db106f15"
      },
      "source": [
        "str3 = 'alice \"in\" borderland'\n",
        "str3"
      ],
      "execution_count": 18,
      "outputs": [
        {
          "output_type": "execute_result",
          "data": {
            "application/vnd.google.colaboratory.intrinsic+json": {
              "type": "string"
            },
            "text/plain": [
              "'alice \"in\" borderland'"
            ]
          },
          "metadata": {},
          "execution_count": 18
        }
      ]
    },
    {
      "cell_type": "markdown",
      "metadata": {
        "id": "-nQpwcgF6yG5"
      },
      "source": [
        "**Operation on strings**"
      ]
    },
    {
      "cell_type": "code",
      "metadata": {
        "colab": {
          "base_uri": "https://localhost:8080/"
        },
        "id": "RyeQ3b7x65NR",
        "outputId": "638a2392-3f78-4ea6-b863-372dddeb0994"
      },
      "source": [
        "var1 = ' Hello Sylph! '\n",
        "print(\"var1[5]: \", var1[5])"
      ],
      "execution_count": 21,
      "outputs": [
        {
          "output_type": "stream",
          "name": "stdout",
          "text": [
            "var1[5]:  o\n"
          ]
        }
      ]
    },
    {
      "cell_type": "markdown",
      "metadata": {
        "id": "sEQfZB_98Smd"
      },
      "source": [
        "**Slice Operation**"
      ]
    },
    {
      "cell_type": "code",
      "metadata": {
        "colab": {
          "base_uri": "https://localhost:8080/"
        },
        "id": "6JOeIuRO8WPb",
        "outputId": "ef53fa3a-8cbe-4652-8264-5a9ae488ab9b"
      },
      "source": [
        "  b = \"Hello Sylph!\"\n",
        "  #print(b[2:5])\n",
        "  #print(b[:6])\n",
        "  #print(b[2:])\n",
        "  print(b[-5:-2])"
      ],
      "execution_count": 22,
      "outputs": [
        {
          "output_type": "stream",
          "name": "stdout",
          "text": [
            "ylp\n"
          ]
        }
      ]
    },
    {
      "cell_type": "markdown",
      "metadata": {
        "id": "k0Aua67T9jDZ"
      },
      "source": [
        "**Python string method** "
      ]
    },
    {
      "cell_type": "markdown",
      "metadata": {
        "id": "_FUDFJBpB1iz"
      },
      "source": [
        "Capitalize first character"
      ]
    },
    {
      "cell_type": "code",
      "metadata": {
        "colab": {
          "base_uri": "https://localhost:8080/"
        },
        "id": "ARAFvln5CKOh",
        "outputId": "984cff22-86fb-44f3-e0ea-43a6efd275e5"
      },
      "source": [
        "run = \"deimos\"\n",
        "x = run.capitalize()\n",
        "print (x)"
      ],
      "execution_count": 23,
      "outputs": [
        {
          "output_type": "stream",
          "name": "stdout",
          "text": [
            "Deimos\n"
          ]
        }
      ]
    },
    {
      "cell_type": "markdown",
      "metadata": {
        "id": "l3QBNbXsEpzO"
      },
      "source": [
        "Join Method"
      ]
    },
    {
      "cell_type": "code",
      "metadata": {
        "colab": {
          "base_uri": "https://localhost:8080/"
        },
        "id": "fQY0o4g0EzHs",
        "outputId": "4354fdd3-b185-47bd-82b1-1a14f761c7ae"
      },
      "source": [
        " join  = (\"I am\", \"brave\")\n",
        " x = \"-\".join(join)\n",
        " print (x)"
      ],
      "execution_count": 24,
      "outputs": [
        {
          "output_type": "stream",
          "name": "stdout",
          "text": [
            "I am-brave\n"
          ]
        }
      ]
    },
    {
      "cell_type": "markdown",
      "metadata": {
        "id": "wcbzHRyUFV29"
      },
      "source": [
        "3_list data type\n",
        "\n",
        "---\n",
        "\n"
      ]
    },
    {
      "cell_type": "code",
      "metadata": {
        "colab": {
          "base_uri": "https://localhost:8080/"
        },
        "id": "C8Jp5DDEFbE4",
        "outputId": "107e9bc1-238e-4e13-e2ec-3d97a1f5bc72"
      },
      "source": [
        "list1 =[2,4,6,8,10]\n",
        "list1[0]"
      ],
      "execution_count": 25,
      "outputs": [
        {
          "output_type": "execute_result",
          "data": {
            "text/plain": [
              "2"
            ]
          },
          "metadata": {},
          "execution_count": 25
        }
      ]
    },
    {
      "cell_type": "markdown",
      "metadata": {
        "id": "LPxpDw4CFojT"
      },
      "source": [
        "slice operation"
      ]
    },
    {
      "cell_type": "code",
      "metadata": {
        "colab": {
          "base_uri": "https://localhost:8080/"
        },
        "id": "42LUO_V-Fxp1",
        "outputId": "fc08a71d-0d47-4077-fc4b-49246b14043e"
      },
      "source": [
        "list1[4:5]"
      ],
      "execution_count": 29,
      "outputs": [
        {
          "output_type": "execute_result",
          "data": {
            "text/plain": [
              "[10]"
            ]
          },
          "metadata": {},
          "execution_count": 29
        }
      ]
    },
    {
      "cell_type": "markdown",
      "metadata": {
        "id": "wXa87RAPGLCj"
      },
      "source": [
        "list built-in function"
      ]
    },
    {
      "cell_type": "code",
      "metadata": {
        "colab": {
          "base_uri": "https://localhost:8080/"
        },
        "id": "oOhJjYl9GP2D",
        "outputId": "a77b5e66-b3ab-419b-b74c-fe22f6b5d7f6"
      },
      "source": [
        "len(list1)"
      ],
      "execution_count": 30,
      "outputs": [
        {
          "output_type": "execute_result",
          "data": {
            "text/plain": [
              "5"
            ]
          },
          "metadata": {},
          "execution_count": 30
        }
      ]
    },
    {
      "cell_type": "code",
      "metadata": {
        "colab": {
          "base_uri": "https://localhost:8080/"
        },
        "id": "jbU9Y126GblD",
        "outputId": "c19a666a-c697-4090-be6a-e2bb9cffd26e"
      },
      "source": [
        "max(list1)"
      ],
      "execution_count": 32,
      "outputs": [
        {
          "output_type": "execute_result",
          "data": {
            "text/plain": [
              "10"
            ]
          },
          "metadata": {},
          "execution_count": 32
        }
      ]
    },
    {
      "cell_type": "code",
      "metadata": {
        "colab": {
          "base_uri": "https://localhost:8080/"
        },
        "id": "hPj5t1xDGjYv",
        "outputId": "568cfd16-9d3e-47a9-cd21-20a45f92f18e"
      },
      "source": [
        "min(list1)"
      ],
      "execution_count": 33,
      "outputs": [
        {
          "output_type": "execute_result",
          "data": {
            "text/plain": [
              "2"
            ]
          },
          "metadata": {},
          "execution_count": 33
        }
      ]
    },
    {
      "cell_type": "markdown",
      "metadata": {
        "id": "ZZuh-sRtGuVe"
      },
      "source": [
        "4_dict data type"
      ]
    },
    {
      "cell_type": "code",
      "metadata": {
        "colab": {
          "base_uri": "https://localhost:8080/"
        },
        "id": "vCs50CqBGzG2",
        "outputId": "11361829-c015-4a6f-b19d-a170fb4d3445"
      },
      "source": [
        "dict ={'Name': 'Sharlene', 'Age': 18, 'class': 'First'}\n",
        "print(dict['Name'], dict['Age'])"
      ],
      "execution_count": 36,
      "outputs": [
        {
          "output_type": "stream",
          "name": "stdout",
          "text": [
            "Sharlene 18\n"
          ]
        }
      ]
    }
  ]
}